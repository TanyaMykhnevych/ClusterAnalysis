{
 "cells": [
  {
   "cell_type": "markdown",
   "metadata": {},
   "source": [
    "# Ієрархічний кластерний аналіз даних"
   ]
  },
  {
   "cell_type": "markdown",
   "metadata": {},
   "source": [
    "Вихідні дані завдання:"
   ]
  },
  {
   "cell_type": "code",
   "execution_count": 1,
   "metadata": {},
   "outputs": [],
   "source": [
    "features = ['X2', 'X3', 'X6', 'X7'] # цільові ознаки\n",
    "\n",
    "metrics = ['seuclidean', 'mahalanobis', 'chebyshev'] # метрики\n",
    "methods = ['single', 'complete', 'average'] # методи зв'язування"
   ]
  },
  {
   "cell_type": "markdown",
   "metadata": {},
   "source": [
    "##### Метрики, що використовуються:\n",
    "- seuclidean - стандартизована евклідова відстань\n",
    "- mahalanobis - Махаланобіса\n",
    "- chebyshev - Чебишева\n",
    "\n",
    "\n",
    "##### Методи зв'язування, що використовуються:\n",
    "- single - ближнього сусіда\n",
    "- complete - далекого сусіда\n",
    "- average - середнього зв'язку"
   ]
  },
  {
   "cell_type": "markdown",
   "metadata": {},
   "source": [
    "Підключуємо залежності:"
   ]
  },
  {
   "cell_type": "code",
   "execution_count": 2,
   "metadata": {},
   "outputs": [],
   "source": [
    "import pandas as pd\n",
    "import numpy as np\n",
    "import seaborn as sns\n",
    "\n",
    "from sklearn.preprocessing import StandardScaler\n",
    "\n",
    "from scipy.spatial.distance import pdist\n",
    "from scipy.cluster.hierarchy import linkage, cophenet, dendrogram\n",
    "\n",
    "from matplotlib import pyplot as plt\n",
    "\n",
    "get_ipython().run_line_magic('matplotlib', 'inline')"
   ]
  },
  {
   "cell_type": "markdown",
   "metadata": {},
   "source": [
    "Зчитуємо дані про продукти:"
   ]
  },
  {
   "cell_type": "code",
   "execution_count": 3,
   "metadata": {},
   "outputs": [
    {
     "data": {
      "text/html": [
       "<div>\n",
       "<style scoped>\n",
       "    .dataframe tbody tr th:only-of-type {\n",
       "        vertical-align: middle;\n",
       "    }\n",
       "\n",
       "    .dataframe tbody tr th {\n",
       "        vertical-align: top;\n",
       "    }\n",
       "\n",
       "    .dataframe thead th {\n",
       "        text-align: right;\n",
       "    }\n",
       "</style>\n",
       "<table border=\"1\" class=\"dataframe\">\n",
       "  <thead>\n",
       "    <tr style=\"text-align: right;\">\n",
       "      <th></th>\n",
       "      <th>X0</th>\n",
       "      <th>X2</th>\n",
       "      <th>X3</th>\n",
       "      <th>X6</th>\n",
       "    </tr>\n",
       "  </thead>\n",
       "  <tbody>\n",
       "    <tr>\n",
       "      <th>0</th>\n",
       "      <td>Росія</td>\n",
       "      <td>3.9</td>\n",
       "      <td>30.0</td>\n",
       "      <td>124</td>\n",
       "    </tr>\n",
       "    <tr>\n",
       "      <th>1</th>\n",
       "      <td>Австралія</td>\n",
       "      <td>2.6</td>\n",
       "      <td>47.0</td>\n",
       "      <td>87</td>\n",
       "    </tr>\n",
       "    <tr>\n",
       "      <th>2</th>\n",
       "      <td>Австрія</td>\n",
       "      <td>5.3</td>\n",
       "      <td>37.0</td>\n",
       "      <td>74</td>\n",
       "    </tr>\n",
       "    <tr>\n",
       "      <th>3</th>\n",
       "      <td>Азербайджан</td>\n",
       "      <td>4.1</td>\n",
       "      <td>12.4</td>\n",
       "      <td>141</td>\n",
       "    </tr>\n",
       "    <tr>\n",
       "      <th>4</th>\n",
       "      <td>Вірменія</td>\n",
       "      <td>3.7</td>\n",
       "      <td>4.3</td>\n",
       "      <td>134</td>\n",
       "    </tr>\n",
       "  </tbody>\n",
       "</table>\n",
       "</div>"
      ],
      "text/plain": [
       "            X0   X2    X3   X6\n",
       "0        Росія  3.9  30.0  124\n",
       "1    Австралія  2.6  47.0   87\n",
       "2      Австрія  5.3  37.0   74\n",
       "3  Азербайджан  4.1  12.4  141\n",
       "4     Вірменія  3.7   4.3  134"
      ]
     },
     "execution_count": 3,
     "metadata": {},
     "output_type": "execute_result"
    }
   ],
   "source": [
    "products = pd.read_csv('products.csv')\n",
    "products.head()"
   ]
  },
  {
   "cell_type": "markdown",
   "metadata": {},
   "source": [
    "Зчитуємо дані про рівень життя:"
   ]
  },
  {
   "cell_type": "code",
   "execution_count": 4,
   "metadata": {},
   "outputs": [
    {
     "data": {
      "text/html": [
       "<div>\n",
       "<style scoped>\n",
       "    .dataframe tbody tr th:only-of-type {\n",
       "        vertical-align: middle;\n",
       "    }\n",
       "\n",
       "    .dataframe tbody tr th {\n",
       "        vertical-align: top;\n",
       "    }\n",
       "\n",
       "    .dataframe thead th {\n",
       "        text-align: right;\n",
       "    }\n",
       "</style>\n",
       "<table border=\"1\" class=\"dataframe\">\n",
       "  <thead>\n",
       "    <tr style=\"text-align: right;\">\n",
       "      <th></th>\n",
       "      <th>X0</th>\n",
       "      <th>X7</th>\n",
       "    </tr>\n",
       "  </thead>\n",
       "  <tbody>\n",
       "    <tr>\n",
       "      <th>0</th>\n",
       "      <td>Росія</td>\n",
       "      <td>44.5</td>\n",
       "    </tr>\n",
       "    <tr>\n",
       "      <th>1</th>\n",
       "      <td>Австралія</td>\n",
       "      <td>32.5</td>\n",
       "    </tr>\n",
       "    <tr>\n",
       "      <th>2</th>\n",
       "      <td>Австрія</td>\n",
       "      <td>33.9</td>\n",
       "    </tr>\n",
       "    <tr>\n",
       "      <th>3</th>\n",
       "      <td>Азербайджан</td>\n",
       "      <td>38.8</td>\n",
       "    </tr>\n",
       "    <tr>\n",
       "      <th>4</th>\n",
       "      <td>Вірменія</td>\n",
       "      <td>34.4</td>\n",
       "    </tr>\n",
       "  </tbody>\n",
       "</table>\n",
       "</div>"
      ],
      "text/plain": [
       "            X0    X7\n",
       "0        Росія  44.5\n",
       "1    Австралія  32.5\n",
       "2      Австрія  33.9\n",
       "3  Азербайджан  38.8\n",
       "4     Вірменія  34.4"
      ]
     },
     "execution_count": 4,
     "metadata": {},
     "output_type": "execute_result"
    }
   ],
   "source": [
    "standards_of_living = pd.read_csv('standards_of_living.csv')\n",
    "standards_of_living.head()"
   ]
  },
  {
   "cell_type": "markdown",
   "metadata": {},
   "source": [
    "Об'єднуємо дві таблиці: "
   ]
  },
  {
   "cell_type": "code",
   "execution_count": 5,
   "metadata": {
    "scrolled": true
   },
   "outputs": [
    {
     "data": {
      "text/html": [
       "<div>\n",
       "<style scoped>\n",
       "    .dataframe tbody tr th:only-of-type {\n",
       "        vertical-align: middle;\n",
       "    }\n",
       "\n",
       "    .dataframe tbody tr th {\n",
       "        vertical-align: top;\n",
       "    }\n",
       "\n",
       "    .dataframe thead th {\n",
       "        text-align: right;\n",
       "    }\n",
       "</style>\n",
       "<table border=\"1\" class=\"dataframe\">\n",
       "  <thead>\n",
       "    <tr style=\"text-align: right;\">\n",
       "      <th></th>\n",
       "      <th>X0</th>\n",
       "      <th>X2</th>\n",
       "      <th>X3</th>\n",
       "      <th>X6</th>\n",
       "      <th>X7</th>\n",
       "    </tr>\n",
       "  </thead>\n",
       "  <tbody>\n",
       "    <tr>\n",
       "      <th>0</th>\n",
       "      <td>Росія</td>\n",
       "      <td>3.9</td>\n",
       "      <td>30.0</td>\n",
       "      <td>124</td>\n",
       "      <td>44.5</td>\n",
       "    </tr>\n",
       "    <tr>\n",
       "      <th>1</th>\n",
       "      <td>Австралія</td>\n",
       "      <td>2.6</td>\n",
       "      <td>47.0</td>\n",
       "      <td>87</td>\n",
       "      <td>32.5</td>\n",
       "    </tr>\n",
       "    <tr>\n",
       "      <th>2</th>\n",
       "      <td>Австрія</td>\n",
       "      <td>5.3</td>\n",
       "      <td>37.0</td>\n",
       "      <td>74</td>\n",
       "      <td>33.9</td>\n",
       "    </tr>\n",
       "    <tr>\n",
       "      <th>3</th>\n",
       "      <td>Азербайджан</td>\n",
       "      <td>4.1</td>\n",
       "      <td>12.4</td>\n",
       "      <td>141</td>\n",
       "      <td>38.8</td>\n",
       "    </tr>\n",
       "    <tr>\n",
       "      <th>4</th>\n",
       "      <td>Вірменія</td>\n",
       "      <td>3.7</td>\n",
       "      <td>4.3</td>\n",
       "      <td>134</td>\n",
       "      <td>34.4</td>\n",
       "    </tr>\n",
       "  </tbody>\n",
       "</table>\n",
       "</div>"
      ],
      "text/plain": [
       "            X0   X2    X3   X6    X7\n",
       "0        Росія  3.9  30.0  124  44.5\n",
       "1    Австралія  2.6  47.0   87  32.5\n",
       "2      Австрія  5.3  37.0   74  33.9\n",
       "3  Азербайджан  4.1  12.4  141  38.8\n",
       "4     Вірменія  3.7   4.3  134  34.4"
      ]
     },
     "execution_count": 5,
     "metadata": {},
     "output_type": "execute_result"
    }
   ],
   "source": [
    "countries = pd.merge(products, standards_of_living)\n",
    "countries.head()"
   ]
  },
  {
   "cell_type": "markdown",
   "metadata": {},
   "source": [
    "Нoрмалізуємо дані:"
   ]
  },
  {
   "cell_type": "code",
   "execution_count": 6,
   "metadata": {},
   "outputs": [
    {
     "data": {
      "text/html": [
       "<div>\n",
       "<style scoped>\n",
       "    .dataframe tbody tr th:only-of-type {\n",
       "        vertical-align: middle;\n",
       "    }\n",
       "\n",
       "    .dataframe tbody tr th {\n",
       "        vertical-align: top;\n",
       "    }\n",
       "\n",
       "    .dataframe thead th {\n",
       "        text-align: right;\n",
       "    }\n",
       "</style>\n",
       "<table border=\"1\" class=\"dataframe\">\n",
       "  <thead>\n",
       "    <tr style=\"text-align: right;\">\n",
       "      <th></th>\n",
       "      <th>X0</th>\n",
       "      <th>X2</th>\n",
       "      <th>X3</th>\n",
       "      <th>X6</th>\n",
       "      <th>X7</th>\n",
       "    </tr>\n",
       "  </thead>\n",
       "  <tbody>\n",
       "    <tr>\n",
       "      <th>0</th>\n",
       "      <td>Росія</td>\n",
       "      <td>0.181147</td>\n",
       "      <td>-0.033091</td>\n",
       "      <td>0.439253</td>\n",
       "      <td>0.884084</td>\n",
       "    </tr>\n",
       "    <tr>\n",
       "      <th>1</th>\n",
       "      <td>Австралія</td>\n",
       "      <td>-0.630893</td>\n",
       "      <td>1.487313</td>\n",
       "      <td>-0.709324</td>\n",
       "      <td>-0.453748</td>\n",
       "    </tr>\n",
       "    <tr>\n",
       "      <th>2</th>\n",
       "      <td>Австрія</td>\n",
       "      <td>1.055652</td>\n",
       "      <td>0.592958</td>\n",
       "      <td>-1.112878</td>\n",
       "      <td>-0.297668</td>\n",
       "    </tr>\n",
       "    <tr>\n",
       "      <th>3</th>\n",
       "      <td>Азербайджан</td>\n",
       "      <td>0.306077</td>\n",
       "      <td>-1.607156</td>\n",
       "      <td>0.966978</td>\n",
       "      <td>0.248614</td>\n",
       "    </tr>\n",
       "    <tr>\n",
       "      <th>4</th>\n",
       "      <td>Вірменія</td>\n",
       "      <td>0.056218</td>\n",
       "      <td>-2.331584</td>\n",
       "      <td>0.749679</td>\n",
       "      <td>-0.241925</td>\n",
       "    </tr>\n",
       "  </tbody>\n",
       "</table>\n",
       "</div>"
      ],
      "text/plain": [
       "            X0        X2        X3        X6        X7\n",
       "0        Росія  0.181147 -0.033091  0.439253  0.884084\n",
       "1    Австралія -0.630893  1.487313 -0.709324 -0.453748\n",
       "2      Австрія  1.055652  0.592958 -1.112878 -0.297668\n",
       "3  Азербайджан  0.306077 -1.607156  0.966978  0.248614\n",
       "4     Вірменія  0.056218 -2.331584  0.749679 -0.241925"
      ]
     },
     "execution_count": 6,
     "metadata": {},
     "output_type": "execute_result"
    }
   ],
   "source": [
    "countries[features] = StandardScaler().fit_transform(countries[features])\n",
    "countries.head()"
   ]
  },
  {
   "cell_type": "markdown",
   "metadata": {},
   "source": [
    "Візуалізуємо залежність між різними ознаками і розподіл кожнoї окремої ознаки:"
   ]
  },
  {
   "cell_type": "code",
   "execution_count": 7,
   "metadata": {},
   "outputs": [
    {
     "data": {
      "text/plain": [
       "<seaborn.axisgrid.PairGrid at 0x20dc15c2f10>"
      ]
     },
     "execution_count": 7,
     "metadata": {},
     "output_type": "execute_result"
    },
    {
     "data": {
      "image/png": "[encoded data removed]",
      "text/plain": [
       "<Figure size 720x720 with 20 Axes>"
      ]
     },
     "metadata": {
      "needs_background": "light"
     },
     "output_type": "display_data"
    }
   ],
   "source": [
    "sns.pairplot(countries[features], diag_kind='hist')"
   ]
  },
  {
   "cell_type": "markdown",
   "metadata": {},
   "source": [
    "Для деталізації візуалізуємо залежність між двома першими ознаками з підписами країн:"
   ]
  },
  {
   "cell_type": "code",
   "execution_count": 8,
   "metadata": {},
   "outputs": [
    {
     "data": {
      "image/png": "[encoded data removed]",
      "text/plain": [
       "<Figure size 432x288 with 1 Axes>"
      ]
     },
     "metadata": {
      "needs_background": "light"
     },
     "output_type": "display_data"
    }
   ],
   "source": [
    "fig, ax = plt.subplots()\n",
    "xs = countries[features[0]]\n",
    "ys = countries[features[1]]\n",
    "ax.scatter(xs, ys)\n",
    "\n",
    "for i, txt in enumerate(countries['X0']):\n",
    "    ax.annotate(txt, (xs[i],ys[i]))"
   ]
  },
  {
   "cell_type": "markdown",
   "metadata": {},
   "source": [
    "Для кожної метрики и методу зв'язування підрахуємо відстані між об'єктами за допомогою функції pdist, Проведемо Кластерний аналіз за допомогою Функції linkage и Знайдемо коефіцієнти кофенетичної кореляції:"
   ]
  },
  {
   "cell_type": "code",
   "execution_count": 9,
   "metadata": {},
   "outputs": [
    {
     "data": {
      "text/html": [
       "<div>\n",
       "<style scoped>\n",
       "    .dataframe tbody tr th:only-of-type {\n",
       "        vertical-align: middle;\n",
       "    }\n",
       "\n",
       "    .dataframe tbody tr th {\n",
       "        vertical-align: top;\n",
       "    }\n",
       "\n",
       "    .dataframe thead th {\n",
       "        text-align: right;\n",
       "    }\n",
       "</style>\n",
       "<table border=\"1\" class=\"dataframe\">\n",
       "  <thead>\n",
       "    <tr style=\"text-align: right;\">\n",
       "      <th></th>\n",
       "      <th>seuclidean</th>\n",
       "      <th>mahalanobis</th>\n",
       "      <th>chebyshev</th>\n",
       "    </tr>\n",
       "  </thead>\n",
       "  <tbody>\n",
       "    <tr>\n",
       "      <th>single</th>\n",
       "      <td>0.711502</td>\n",
       "      <td>0.590072</td>\n",
       "      <td>0.623862</td>\n",
       "    </tr>\n",
       "    <tr>\n",
       "      <th>complete</th>\n",
       "      <td>0.714839</td>\n",
       "      <td>0.517176</td>\n",
       "      <td>0.634918</td>\n",
       "    </tr>\n",
       "    <tr>\n",
       "      <th>average</th>\n",
       "      <td>0.749043</td>\n",
       "      <td>0.686904</td>\n",
       "      <td>0.657578</td>\n",
       "    </tr>\n",
       "  </tbody>\n",
       "</table>\n",
       "</div>"
      ],
      "text/plain": [
       "          seuclidean  mahalanobis  chebyshev\n",
       "single      0.711502     0.590072   0.623862\n",
       "complete    0.714839     0.517176   0.634918\n",
       "average     0.749043     0.686904   0.657578"
      ]
     },
     "execution_count": 9,
     "metadata": {},
     "output_type": "execute_result"
    }
   ],
   "source": [
    "cophenet_coefs = pd.DataFrame(columns=metrics, index=methods, data=np.zeros((len(methods),len(metrics))))\n",
    "X = countries[features].values\n",
    "\n",
    "for i, method in enumerate(methods):\n",
    "    for j, metric in enumerate(metrics):\n",
    "        y = pdist(X, metric, p=4)\n",
    "        clustering = linkage(y, method)\n",
    "        k = cophenet(clustering, y)\n",
    "        cophenet_coefs.iloc[i, j] = k[0]\n",
    "\n",
    "cophenet_coefs"
   ]
  },
  {
   "cell_type": "markdown",
   "metadata": {},
   "source": [
    "Знайдемо максимальний і мінімальний з отриманих коефіцієнтів:"
   ]
  },
  {
   "cell_type": "code",
   "execution_count": 10,
   "metadata": {},
   "outputs": [
    {
     "name": "stdout",
     "output_type": "stream",
     "text": [
      "Max coef: average method and seuclidean distance\n",
      "Min coef: complete method and mahalanobis distance\n"
     ]
    }
   ],
   "source": [
    "max_row_idx, max_col_idx = np.unravel_index(cophenet_coefs.values.argmax(), cophenet_coefs.values.shape)\n",
    "print('Max coef: {} method and {} distance'.format(methods[max_row_idx], metrics[max_col_idx]))\n",
    "\n",
    "min_row_idx, min_col_idx = np.unravel_index(cophenet_coefs.values.argmin(), cophenet_coefs.values.shape)\n",
    "print('Min coef: {} method and {} distance'.format(methods[min_row_idx], metrics[min_col_idx]))"
   ]
  },
  {
   "cell_type": "markdown",
   "metadata": {},
   "source": [
    "Для подальшого аналізу буде використовуватися метрика і метод, для яких коефіцієнт кофенетичної кореляції максимальний."
   ]
  },
  {
   "cell_type": "markdown",
   "metadata": {},
   "source": [
    "Побудуємо дендрограму результатів кластерного аналізу:"
   ]
  },
  {
   "cell_type": "code",
   "execution_count": 11,
   "metadata": {},
   "outputs": [
    {
     "data": {
      "image/png": "[encoded data removed]",
      "text/plain": [
       "<Figure size 1728x576 with 1 Axes>"
      ]
     },
     "metadata": {
      "needs_background": "light"
     },
     "output_type": "display_data"
    }
   ],
   "source": [
    "y = pdist(X, metrics[max_col_idx], p=4)\n",
    "Z = linkage(y, methods[max_row_idx])\n",
    "\n",
    "fig, ax = plt.subplots(figsize=(24, 8))\n",
    "dn = dendrogram(Z, labels=countries['X0'].tolist())"
   ]
  },
  {
   "cell_type": "markdown",
   "metadata": {},
   "source": [
    "Виділимо кластери шляхом завдання максимальної кількості кластерів n_clusters:"
   ]
  },
  {
   "cell_type": "code",
   "execution_count": 12,
   "metadata": {},
   "outputs": [
    {
     "name": "stdout",
     "output_type": "stream",
     "text": [
      "Cluster #1\n",
      "Азербайджан, Вірменія, Болгарія, Казахстан, Киргизія, \n",
      "\n",
      "Cluster #2\n",
      "Росія, Білорусь, Греція, Грузія, Іспанія, Італія, \n",
      "\n",
      "Cluster #3\n",
      "Австрія, Бельгія, Німеччина, Данія, \n",
      "\n",
      "Cluster #4\n",
      "Австралія, Великобританія, Угорщина, Ірландія, Канада, \n",
      "\n"
     ]
    }
   ],
   "source": [
    "n_clusters = 4\n",
    "\n",
    "from scipy.cluster.hierarchy import fcluster\n",
    "\n",
    "maxclust_clusters = fcluster(Z, n_clusters, criterion='maxclust')\n",
    "\n",
    "for i in range(np.unique(maxclust_clusters).shape[0]):\n",
    "    print('Cluster #{}'.format(i + 1))\n",
    "    \n",
    "    for index, cluster in enumerate(maxclust_clusters):\n",
    "        if cluster == (i + 1):\n",
    "            print(countries['X0'].iloc[index], end=', ')\n",
    "            \n",
    "    print('\\n')"
   ]
  },
  {
   "cell_type": "markdown",
   "metadata": {},
   "source": [
    "Візуалізуємо залежність між приналежністю до кластерів та вихідними ознаками. Кожен кластер виділено окремим кольором."
   ]
  },
  {
   "cell_type": "code",
   "execution_count": 13,
   "metadata": {},
   "outputs": [
    {
     "data": {
      "text/plain": [
       "<seaborn.axisgrid.PairGrid at 0x20dc412ae80>"
      ]
     },
     "execution_count": 13,
     "metadata": {},
     "output_type": "execute_result"
    },
    {
     "data": {
      "image/png": "[encoded data removed]",
      "text/plain": [
       "<Figure size 817.875x720 with 20 Axes>"
      ]
     },
     "metadata": {
      "needs_background": "light"
     },
     "output_type": "display_data"
    }
   ],
   "source": [
    "maxclust_result = countries[features]\n",
    "maxclust_result['cluster_n_clusters'] = maxclust_clusters\n",
    "sns.pairplot(maxclust_result, hue='cluster_n_clusters', diag_kind='hist')"
   ]
  },
  {
   "cell_type": "markdown",
   "metadata": {},
   "source": [
    "Виділимо кластери шляхом завдання порогової відстані між кластерами max_dist:"
   ]
  },
  {
   "cell_type": "code",
   "execution_count": 14,
   "metadata": {},
   "outputs": [
    {
     "name": "stdout",
     "output_type": "stream",
     "text": [
      "Cluster #1\n",
      "Азербайджан, Вірменія, Болгарія, Казахстан, Киргизія, \n",
      "\n",
      "Cluster #2\n",
      "Греція, Іспанія, \n",
      "\n",
      "Cluster #3\n",
      "Росія, Білорусь, Грузія, Італія, \n",
      "\n",
      "Cluster #4\n",
      "Австрія, Бельгія, Німеччина, Данія, \n",
      "\n",
      "Cluster #5\n",
      "Австралія, Великобританія, Угорщина, Ірландія, Канада, \n",
      "\n"
     ]
    }
   ],
   "source": [
    "max_dist = 2\n",
    "\n",
    "from scipy.cluster.hierarchy import fcluster\n",
    "\n",
    "distance_clusters = fcluster(Z, max_dist, criterion='distance')\n",
    "\n",
    "for i in range(np.unique(distance_clusters).shape[0]):\n",
    "    print('Cluster #{}'.format(i + 1))\n",
    "    \n",
    "    for index, cluster in enumerate(distance_clusters):\n",
    "        if cluster == (i + 1):\n",
    "            print(countries['X0'].iloc[index], end=', ')\n",
    "            \n",
    "    print('\\n')"
   ]
  },
  {
   "cell_type": "markdown",
   "metadata": {},
   "source": [
    "Візуалізуємо залежність між приналежністю до кластерів та вихідними ознаками. Кожен кластер виділено окремим кольором."
   ]
  },
  {
   "cell_type": "code",
   "execution_count": 15,
   "metadata": {},
   "outputs": [
    {
     "data": {
      "text/plain": [
       "<seaborn.axisgrid.PairGrid at 0x20dc4b09d00>"
      ]
     },
     "execution_count": 15,
     "metadata": {},
     "output_type": "execute_result"
    },
    {
     "data": {
      "image/png": "[encoded data removed]",
      "text/plain": [
       "<Figure size 817.875x720 with 20 Axes>"
      ]
     },
     "metadata": {
      "needs_background": "light"
     },
     "output_type": "display_data"
    }
   ],
   "source": [
    "distance_result = countries[features]\n",
    "distance_result['cluster_n_clusters'] = maxclust_clusters\n",
    "sns.pairplot(distance_result, hue='cluster_n_clusters', diag_kind='hist')"
   ]
  },
  {
   "cell_type": "code",
   "execution_count": null,
   "metadata": {},
   "outputs": [],
   "source": []
  }
 ],
 "metadata": {
  "kernelspec": {
   "display_name": "Python 3",
   "language": "python",
   "name": "python3"
  },
  "language_info": {
   "codemirror_mode": {
    "name": "ipython",
    "version": 3
   },
   "file_extension": ".py",
   "mimetype": "text/x-python",
   "name": "python",
   "nbconvert_exporter": "python",
   "pygments_lexer": "ipython3",
   "version": "3.8.2"
  }
 },
 "nbformat": 4,
 "nbformat_minor": 2
}
